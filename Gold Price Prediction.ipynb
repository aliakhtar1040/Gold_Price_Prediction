{
 "cells": [
  {
   "cell_type": "markdown",
   "id": "f172293d-e371-49ab-be57-b974c5731548",
   "metadata": {},
   "source": [
    "# Imporing the libraries"
   ]
  },
  {
   "cell_type": "code",
   "execution_count": 1,
   "id": "be98619e-1a34-4ede-a04b-3d43de32f191",
   "metadata": {},
   "outputs": [],
   "source": [
    "import numpy as np\n",
    "import pandas as pd\n",
    "import matplotlib.pyplot as plt\n",
    "import seaborn as sns\n",
    "from sklearn.model_selection import train_test_split\n",
    "from sklearn.ensemble import RandomForestRegressor\n",
    "from sklearn import metrics\n",
    "from sklearn.metrics import mean_squared_error"
   ]
  },
  {
   "cell_type": "markdown",
   "id": "c906831a-6b0a-408e-9a5d-4f972a625ecf",
   "metadata": {},
   "source": [
    "Data Collection and Processing"
   ]
  },
  {
   "cell_type": "code",
   "execution_count": 2,
   "id": "239cae79-6d56-4a27-95a7-0b25b845535a",
   "metadata": {},
   "outputs": [],
   "source": [
    "# loading the csv data to a Pandas DataFrame\n",
    "gold_data = pd.read_csv('gold_price_data.csv')"
   ]
  },
  {
   "cell_type": "code",
   "execution_count": 3,
   "id": "46060b73-2b34-41e8-9591-d0bd3e1e3a42",
   "metadata": {},
   "outputs": [
    {
     "data": {
      "text/html": [
       "<div>\n",
       "<style scoped>\n",
       "    .dataframe tbody tr th:only-of-type {\n",
       "        vertical-align: middle;\n",
       "    }\n",
       "\n",
       "    .dataframe tbody tr th {\n",
       "        vertical-align: top;\n",
       "    }\n",
       "\n",
       "    .dataframe thead th {\n",
       "        text-align: right;\n",
       "    }\n",
       "</style>\n",
       "<table border=\"1\" class=\"dataframe\">\n",
       "  <thead>\n",
       "    <tr style=\"text-align: right;\">\n",
       "      <th></th>\n",
       "      <th>Date</th>\n",
       "      <th>SPX</th>\n",
       "      <th>GLD</th>\n",
       "      <th>USO</th>\n",
       "      <th>SLV</th>\n",
       "      <th>EUR/USD</th>\n",
       "    </tr>\n",
       "  </thead>\n",
       "  <tbody>\n",
       "    <tr>\n",
       "      <th>0</th>\n",
       "      <td>1/2/2008</td>\n",
       "      <td>1447.160034</td>\n",
       "      <td>84.860001</td>\n",
       "      <td>78.470001</td>\n",
       "      <td>15.180</td>\n",
       "      <td>1.471692</td>\n",
       "    </tr>\n",
       "    <tr>\n",
       "      <th>1</th>\n",
       "      <td>1/3/2008</td>\n",
       "      <td>1447.160034</td>\n",
       "      <td>85.570000</td>\n",
       "      <td>78.370003</td>\n",
       "      <td>15.285</td>\n",
       "      <td>1.474491</td>\n",
       "    </tr>\n",
       "    <tr>\n",
       "      <th>2</th>\n",
       "      <td>1/4/2008</td>\n",
       "      <td>1411.630005</td>\n",
       "      <td>85.129997</td>\n",
       "      <td>77.309998</td>\n",
       "      <td>15.167</td>\n",
       "      <td>1.475492</td>\n",
       "    </tr>\n",
       "    <tr>\n",
       "      <th>3</th>\n",
       "      <td>1/7/2008</td>\n",
       "      <td>1416.180054</td>\n",
       "      <td>84.769997</td>\n",
       "      <td>75.500000</td>\n",
       "      <td>15.053</td>\n",
       "      <td>1.468299</td>\n",
       "    </tr>\n",
       "    <tr>\n",
       "      <th>4</th>\n",
       "      <td>1/8/2008</td>\n",
       "      <td>1390.189941</td>\n",
       "      <td>86.779999</td>\n",
       "      <td>76.059998</td>\n",
       "      <td>15.590</td>\n",
       "      <td>1.557099</td>\n",
       "    </tr>\n",
       "  </tbody>\n",
       "</table>\n",
       "</div>"
      ],
      "text/plain": [
       "       Date          SPX        GLD        USO     SLV   EUR/USD\n",
       "0  1/2/2008  1447.160034  84.860001  78.470001  15.180  1.471692\n",
       "1  1/3/2008  1447.160034  85.570000  78.370003  15.285  1.474491\n",
       "2  1/4/2008  1411.630005  85.129997  77.309998  15.167  1.475492\n",
       "3  1/7/2008  1416.180054  84.769997  75.500000  15.053  1.468299\n",
       "4  1/8/2008  1390.189941  86.779999  76.059998  15.590  1.557099"
      ]
     },
     "execution_count": 3,
     "metadata": {},
     "output_type": "execute_result"
    }
   ],
   "source": [
    "# print first 5 rows in the dataframe\n",
    "gold_data.head()"
   ]
  },
  {
   "cell_type": "code",
   "execution_count": 4,
   "id": "cb00035f-698e-4809-921a-d6bac96f0b24",
   "metadata": {},
   "outputs": [
    {
     "data": {
      "text/html": [
       "<div>\n",
       "<style scoped>\n",
       "    .dataframe tbody tr th:only-of-type {\n",
       "        vertical-align: middle;\n",
       "    }\n",
       "\n",
       "    .dataframe tbody tr th {\n",
       "        vertical-align: top;\n",
       "    }\n",
       "\n",
       "    .dataframe thead th {\n",
       "        text-align: right;\n",
       "    }\n",
       "</style>\n",
       "<table border=\"1\" class=\"dataframe\">\n",
       "  <thead>\n",
       "    <tr style=\"text-align: right;\">\n",
       "      <th></th>\n",
       "      <th>Date</th>\n",
       "      <th>SPX</th>\n",
       "      <th>GLD</th>\n",
       "      <th>USO</th>\n",
       "      <th>SLV</th>\n",
       "      <th>EUR/USD</th>\n",
       "    </tr>\n",
       "  </thead>\n",
       "  <tbody>\n",
       "    <tr>\n",
       "      <th>2285</th>\n",
       "      <td>5/8/2018</td>\n",
       "      <td>2671.919922</td>\n",
       "      <td>124.589996</td>\n",
       "      <td>14.0600</td>\n",
       "      <td>15.5100</td>\n",
       "      <td>1.186789</td>\n",
       "    </tr>\n",
       "    <tr>\n",
       "      <th>2286</th>\n",
       "      <td>5/9/2018</td>\n",
       "      <td>2697.790039</td>\n",
       "      <td>124.330002</td>\n",
       "      <td>14.3700</td>\n",
       "      <td>15.5300</td>\n",
       "      <td>1.184722</td>\n",
       "    </tr>\n",
       "    <tr>\n",
       "      <th>2287</th>\n",
       "      <td>5/10/2018</td>\n",
       "      <td>2723.070068</td>\n",
       "      <td>125.180000</td>\n",
       "      <td>14.4100</td>\n",
       "      <td>15.7400</td>\n",
       "      <td>1.191753</td>\n",
       "    </tr>\n",
       "    <tr>\n",
       "      <th>2288</th>\n",
       "      <td>5/14/2018</td>\n",
       "      <td>2730.129883</td>\n",
       "      <td>124.489998</td>\n",
       "      <td>14.3800</td>\n",
       "      <td>15.5600</td>\n",
       "      <td>1.193118</td>\n",
       "    </tr>\n",
       "    <tr>\n",
       "      <th>2289</th>\n",
       "      <td>5/16/2018</td>\n",
       "      <td>2725.780029</td>\n",
       "      <td>122.543800</td>\n",
       "      <td>14.4058</td>\n",
       "      <td>15.4542</td>\n",
       "      <td>1.182033</td>\n",
       "    </tr>\n",
       "  </tbody>\n",
       "</table>\n",
       "</div>"
      ],
      "text/plain": [
       "           Date          SPX         GLD      USO      SLV   EUR/USD\n",
       "2285   5/8/2018  2671.919922  124.589996  14.0600  15.5100  1.186789\n",
       "2286   5/9/2018  2697.790039  124.330002  14.3700  15.5300  1.184722\n",
       "2287  5/10/2018  2723.070068  125.180000  14.4100  15.7400  1.191753\n",
       "2288  5/14/2018  2730.129883  124.489998  14.3800  15.5600  1.193118\n",
       "2289  5/16/2018  2725.780029  122.543800  14.4058  15.4542  1.182033"
      ]
     },
     "execution_count": 4,
     "metadata": {},
     "output_type": "execute_result"
    }
   ],
   "source": [
    "# print last 5 rows in the dataframe\n",
    "gold_data.tail()"
   ]
  },
  {
   "cell_type": "code",
   "execution_count": 5,
   "id": "e678918e-e8ea-4957-abc4-6b1d8f71d8e8",
   "metadata": {},
   "outputs": [
    {
     "data": {
      "text/plain": [
       "(2290, 6)"
      ]
     },
     "execution_count": 5,
     "metadata": {},
     "output_type": "execute_result"
    }
   ],
   "source": [
    "# number of rows and columns\n",
    "gold_data.shape"
   ]
  },
  {
   "cell_type": "code",
   "execution_count": 6,
   "id": "b142406c-691c-4b78-b15d-decbcd24a6ea",
   "metadata": {},
   "outputs": [
    {
     "name": "stdout",
     "output_type": "stream",
     "text": [
      "<class 'pandas.core.frame.DataFrame'>\n",
      "RangeIndex: 2290 entries, 0 to 2289\n",
      "Data columns (total 6 columns):\n",
      " #   Column   Non-Null Count  Dtype  \n",
      "---  ------   --------------  -----  \n",
      " 0   Date     2290 non-null   object \n",
      " 1   SPX      2290 non-null   float64\n",
      " 2   GLD      2290 non-null   float64\n",
      " 3   USO      2290 non-null   float64\n",
      " 4   SLV      2290 non-null   float64\n",
      " 5   EUR/USD  2290 non-null   float64\n",
      "dtypes: float64(5), object(1)\n",
      "memory usage: 107.5+ KB\n"
     ]
    }
   ],
   "source": [
    "# getting some basic information about the data\n",
    "gold_data.info()"
   ]
  },
  {
   "cell_type": "code",
   "execution_count": 7,
   "id": "0d2b6407-ed33-4e66-b391-173208fd3451",
   "metadata": {},
   "outputs": [
    {
     "data": {
      "text/plain": [
       "Date       0\n",
       "SPX        0\n",
       "GLD        0\n",
       "USO        0\n",
       "SLV        0\n",
       "EUR/USD    0\n",
       "dtype: int64"
      ]
     },
     "execution_count": 7,
     "metadata": {},
     "output_type": "execute_result"
    }
   ],
   "source": [
    "# checking the number of missing values\n",
    "gold_data.isnull().sum()"
   ]
  },
  {
   "cell_type": "code",
   "execution_count": 8,
   "id": "1d6e1145-52f5-4534-9172-bac979461dce",
   "metadata": {},
   "outputs": [
    {
     "data": {
      "text/html": [
       "<div>\n",
       "<style scoped>\n",
       "    .dataframe tbody tr th:only-of-type {\n",
       "        vertical-align: middle;\n",
       "    }\n",
       "\n",
       "    .dataframe tbody tr th {\n",
       "        vertical-align: top;\n",
       "    }\n",
       "\n",
       "    .dataframe thead th {\n",
       "        text-align: right;\n",
       "    }\n",
       "</style>\n",
       "<table border=\"1\" class=\"dataframe\">\n",
       "  <thead>\n",
       "    <tr style=\"text-align: right;\">\n",
       "      <th></th>\n",
       "      <th>SPX</th>\n",
       "      <th>GLD</th>\n",
       "      <th>USO</th>\n",
       "      <th>SLV</th>\n",
       "      <th>EUR/USD</th>\n",
       "    </tr>\n",
       "  </thead>\n",
       "  <tbody>\n",
       "    <tr>\n",
       "      <th>count</th>\n",
       "      <td>2290.000000</td>\n",
       "      <td>2290.000000</td>\n",
       "      <td>2290.000000</td>\n",
       "      <td>2290.000000</td>\n",
       "      <td>2290.000000</td>\n",
       "    </tr>\n",
       "    <tr>\n",
       "      <th>mean</th>\n",
       "      <td>1654.315776</td>\n",
       "      <td>122.732875</td>\n",
       "      <td>31.842221</td>\n",
       "      <td>20.084997</td>\n",
       "      <td>1.283653</td>\n",
       "    </tr>\n",
       "    <tr>\n",
       "      <th>std</th>\n",
       "      <td>519.111540</td>\n",
       "      <td>23.283346</td>\n",
       "      <td>19.523517</td>\n",
       "      <td>7.092566</td>\n",
       "      <td>0.131547</td>\n",
       "    </tr>\n",
       "    <tr>\n",
       "      <th>min</th>\n",
       "      <td>676.530029</td>\n",
       "      <td>70.000000</td>\n",
       "      <td>7.960000</td>\n",
       "      <td>8.850000</td>\n",
       "      <td>1.039047</td>\n",
       "    </tr>\n",
       "    <tr>\n",
       "      <th>25%</th>\n",
       "      <td>1239.874969</td>\n",
       "      <td>109.725000</td>\n",
       "      <td>14.380000</td>\n",
       "      <td>15.570000</td>\n",
       "      <td>1.171313</td>\n",
       "    </tr>\n",
       "    <tr>\n",
       "      <th>50%</th>\n",
       "      <td>1551.434998</td>\n",
       "      <td>120.580002</td>\n",
       "      <td>33.869999</td>\n",
       "      <td>17.268500</td>\n",
       "      <td>1.303297</td>\n",
       "    </tr>\n",
       "    <tr>\n",
       "      <th>75%</th>\n",
       "      <td>2073.010070</td>\n",
       "      <td>132.840004</td>\n",
       "      <td>37.827501</td>\n",
       "      <td>22.882500</td>\n",
       "      <td>1.369971</td>\n",
       "    </tr>\n",
       "    <tr>\n",
       "      <th>max</th>\n",
       "      <td>2872.870117</td>\n",
       "      <td>184.589996</td>\n",
       "      <td>117.480003</td>\n",
       "      <td>47.259998</td>\n",
       "      <td>1.598798</td>\n",
       "    </tr>\n",
       "  </tbody>\n",
       "</table>\n",
       "</div>"
      ],
      "text/plain": [
       "               SPX          GLD          USO          SLV      EUR/USD\n",
       "count  2290.000000  2290.000000  2290.000000  2290.000000  2290.000000\n",
       "mean   1654.315776   122.732875    31.842221    20.084997     1.283653\n",
       "std     519.111540    23.283346    19.523517     7.092566     0.131547\n",
       "min     676.530029    70.000000     7.960000     8.850000     1.039047\n",
       "25%    1239.874969   109.725000    14.380000    15.570000     1.171313\n",
       "50%    1551.434998   120.580002    33.869999    17.268500     1.303297\n",
       "75%    2073.010070   132.840004    37.827501    22.882500     1.369971\n",
       "max    2872.870117   184.589996   117.480003    47.259998     1.598798"
      ]
     },
     "execution_count": 8,
     "metadata": {},
     "output_type": "execute_result"
    }
   ],
   "source": [
    "# getting the statistical measures of the data\n",
    "gold_data.describe()"
   ]
  },
  {
   "cell_type": "markdown",
   "id": "886e06dc-0030-440c-9caa-323d1df1866c",
   "metadata": {},
   "source": [
    "Correlation\n",
    "    1. Positive Correlation\n",
    "    2. Negative Correlation"
   ]
  },
  {
   "cell_type": "code",
   "execution_count": 9,
   "id": "5d7e8b5b-cfc5-44fa-9710-5ba7deba5b62",
   "metadata": {},
   "outputs": [],
   "source": [
    "correlation = gold_data.corr(numeric_only=True)"
   ]
  },
  {
   "cell_type": "code",
   "execution_count": 10,
   "id": "4ff95153-8483-4476-a27e-5a55e61a9d1f",
   "metadata": {},
   "outputs": [
    {
     "data": {
      "text/plain": [
       "<Axes: >"
      ]
     },
     "execution_count": 10,
     "metadata": {},
     "output_type": "execute_result"
    },
    {
     "data": {
      "image/png": "[encoded data removed]",
      "text/plain": [
       "<Figure size 800x800 with 2 Axes>"
      ]
     },
     "metadata": {},
     "output_type": "display_data"
    }
   ],
   "source": [
    "# constructing a heatmap to understand the correlation\n",
    "plt.figure(figsize=(8,8))\n",
    "sns.heatmap(correlation,cbar=True,square=True,annot=True,cmap='Blues')"
   ]
  },
  {
   "cell_type": "code",
   "execution_count": 11,
   "id": "51fd1715-beb1-43a1-b8ea-fc350859e2ae",
   "metadata": {},
   "outputs": [
    {
     "name": "stdout",
     "output_type": "stream",
     "text": [
      "SPX        0.049345\n",
      "GLD        1.000000\n",
      "USO       -0.186360\n",
      "SLV        0.866632\n",
      "EUR/USD   -0.024375\n",
      "Name: GLD, dtype: float64\n"
     ]
    }
   ],
   "source": [
    "# correlation values of GLD\n",
    "print(correlation['GLD'])"
   ]
  },
  {
   "cell_type": "code",
   "execution_count": 12,
   "id": "23bb04d4-b35e-4103-807d-0e64eabfb406",
   "metadata": {},
   "outputs": [],
   "source": [
    "gold_data = gold_data.drop(['SPX','EUR/USD'],axis=1)"
   ]
  },
  {
   "cell_type": "code",
   "execution_count": 13,
   "id": "62e49292-48c8-4cd7-b20d-2cff316e631e",
   "metadata": {},
   "outputs": [
    {
     "name": "stdout",
     "output_type": "stream",
     "text": [
      "<class 'pandas.core.frame.DataFrame'>\n",
      "RangeIndex: 2290 entries, 0 to 2289\n",
      "Data columns (total 4 columns):\n",
      " #   Column  Non-Null Count  Dtype  \n",
      "---  ------  --------------  -----  \n",
      " 0   Date    2290 non-null   object \n",
      " 1   GLD     2290 non-null   float64\n",
      " 2   USO     2290 non-null   float64\n",
      " 3   SLV     2290 non-null   float64\n",
      "dtypes: float64(3), object(1)\n",
      "memory usage: 71.7+ KB\n"
     ]
    }
   ],
   "source": [
    "gold_data.info()"
   ]
  },
  {
   "cell_type": "markdown",
   "id": "54b940ba-26a3-468a-87d0-caf683dda130",
   "metadata": {},
   "source": [
    "Splitting the features and Target"
   ]
  },
  {
   "cell_type": "code",
   "execution_count": 14,
   "id": "21f4d903-5477-40a5-b782-5fca23031600",
   "metadata": {},
   "outputs": [],
   "source": [
    "X = gold_data.drop(['Date','GLD'],axis=1)\n",
    "Y = gold_data['GLD']"
   ]
  },
  {
   "cell_type": "code",
   "execution_count": 15,
   "id": "b64dd7a6-ad7c-4cf2-8525-26550107dc7a",
   "metadata": {},
   "outputs": [
    {
     "name": "stdout",
     "output_type": "stream",
     "text": [
      "            USO      SLV\n",
      "0     78.470001  15.1800\n",
      "1     78.370003  15.2850\n",
      "2     77.309998  15.1670\n",
      "3     75.500000  15.0530\n",
      "4     76.059998  15.5900\n",
      "...         ...      ...\n",
      "2285  14.060000  15.5100\n",
      "2286  14.370000  15.5300\n",
      "2287  14.410000  15.7400\n",
      "2288  14.380000  15.5600\n",
      "2289  14.405800  15.4542\n",
      "\n",
      "[2290 rows x 2 columns]\n"
     ]
    }
   ],
   "source": [
    "print(X)"
   ]
  },
  {
   "cell_type": "code",
   "execution_count": 16,
   "id": "564e6923-26f3-43e9-a65f-38a8f1f0a832",
   "metadata": {},
   "outputs": [
    {
     "name": "stdout",
     "output_type": "stream",
     "text": [
      "0        84.860001\n",
      "1        85.570000\n",
      "2        85.129997\n",
      "3        84.769997\n",
      "4        86.779999\n",
      "           ...    \n",
      "2285    124.589996\n",
      "2286    124.330002\n",
      "2287    125.180000\n",
      "2288    124.489998\n",
      "2289    122.543800\n",
      "Name: GLD, Length: 2290, dtype: float64\n"
     ]
    }
   ],
   "source": [
    "print(Y)"
   ]
  },
  {
   "cell_type": "markdown",
   "id": "6b544711-01ac-4023-b290-90e07673d4b5",
   "metadata": {},
   "source": [
    "Splitting into Training Data and Test Data"
   ]
  },
  {
   "cell_type": "code",
   "execution_count": 17,
   "id": "9599edb9-39dd-41e9-99c3-439f7476125c",
   "metadata": {},
   "outputs": [],
   "source": [
    "X_train, X_test, Y_train, Y_test = train_test_split(X, Y, test_size = 0.3, random_state = 0)"
   ]
  },
  {
   "cell_type": "code",
   "execution_count": 18,
   "id": "c4bf8f57-2629-4829-abe9-911c76d8614e",
   "metadata": {},
   "outputs": [
    {
     "name": "stdout",
     "output_type": "stream",
     "text": [
      "(1603, 2)\n",
      "(1603,)\n"
     ]
    }
   ],
   "source": [
    "print(X_train.shape)\n",
    "print(Y_train.shape)"
   ]
  },
  {
   "cell_type": "code",
   "execution_count": 19,
   "id": "3f621547-193f-458c-8b90-47ffffedbfc6",
   "metadata": {},
   "outputs": [
    {
     "name": "stdout",
     "output_type": "stream",
     "text": [
      "(687, 2)\n",
      "(687,)\n"
     ]
    }
   ],
   "source": [
    "print(X_test.shape)\n",
    "print(Y_test.shape)"
   ]
  },
  {
   "cell_type": "markdown",
   "id": "91d98abd-de68-4ad5-adcb-8bde0e9068c6",
   "metadata": {},
   "source": [
    "Model Training:\n",
    "Random Forest Regressor"
   ]
  },
  {
   "cell_type": "code",
   "execution_count": 20,
   "id": "9659854e-686b-40a5-9f90-b4d530459563",
   "metadata": {},
   "outputs": [],
   "source": [
    "model = RandomForestRegressor(n_estimators=100)"
   ]
  },
  {
   "cell_type": "code",
   "execution_count": 21,
   "id": "1f1abb01-1ba8-40e4-be36-cc236e1e9cc3",
   "metadata": {},
   "outputs": [
    {
     "data": {
      "text/html": [
       "<style>#sk-container-id-1 {color: black;}#sk-container-id-1 pre{padding: 0;}#sk-container-id-1 div.sk-toggleable {background-color: white;}#sk-container-id-1 label.sk-toggleable__label {cursor: pointer;display: block;width: 100%;margin-bottom: 0;padding: 0.3em;box-sizing: border-box;text-align: center;}#sk-container-id-1 label.sk-toggleable__label-arrow:before {content: \"▸\";float: left;margin-right: 0.25em;color: #696969;}#sk-container-id-1 label.sk-toggleable__label-arrow:hover:before {color: black;}#sk-container-id-1 div.sk-estimator:hover label.sk-toggleable__label-arrow:before {color: black;}#sk-container-id-1 div.sk-toggleable__content {max-height: 0;max-width: 0;overflow: hidden;text-align: left;background-color: #f0f8ff;}#sk-container-id-1 div.sk-toggleable__content pre {margin: 0.2em;color: black;border-radius: 0.25em;background-color: #f0f8ff;}#sk-container-id-1 input.sk-toggleable__control:checked~div.sk-toggleable__content {max-height: 200px;max-width: 100%;overflow: auto;}#sk-container-id-1 input.sk-toggleable__control:checked~label.sk-toggleable__label-arrow:before {content: \"▾\";}#sk-container-id-1 div.sk-estimator input.sk-toggleable__control:checked~label.sk-toggleable__label {background-color: #d4ebff;}#sk-container-id-1 div.sk-label input.sk-toggleable__control:checked~label.sk-toggleable__label {background-color: #d4ebff;}#sk-container-id-1 input.sk-hidden--visually {border: 0;clip: rect(1px 1px 1px 1px);clip: rect(1px, 1px, 1px, 1px);height: 1px;margin: -1px;overflow: hidden;padding: 0;position: absolute;width: 1px;}#sk-container-id-1 div.sk-estimator {font-family: monospace;background-color: #f0f8ff;border: 1px dotted black;border-radius: 0.25em;box-sizing: border-box;margin-bottom: 0.5em;}#sk-container-id-1 div.sk-estimator:hover {background-color: #d4ebff;}#sk-container-id-1 div.sk-parallel-item::after {content: \"\";width: 100%;border-bottom: 1px solid gray;flex-grow: 1;}#sk-container-id-1 div.sk-label:hover label.sk-toggleable__label {background-color: #d4ebff;}#sk-container-id-1 div.sk-serial::before {content: \"\";position: absolute;border-left: 1px solid gray;box-sizing: border-box;top: 0;bottom: 0;left: 50%;z-index: 0;}#sk-container-id-1 div.sk-serial {display: flex;flex-direction: column;align-items: center;background-color: white;padding-right: 0.2em;padding-left: 0.2em;position: relative;}#sk-container-id-1 div.sk-item {position: relative;z-index: 1;}#sk-container-id-1 div.sk-parallel {display: flex;align-items: stretch;justify-content: center;background-color: white;position: relative;}#sk-container-id-1 div.sk-item::before, #sk-container-id-1 div.sk-parallel-item::before {content: \"\";position: absolute;border-left: 1px solid gray;box-sizing: border-box;top: 0;bottom: 0;left: 50%;z-index: -1;}#sk-container-id-1 div.sk-parallel-item {display: flex;flex-direction: column;z-index: 1;position: relative;background-color: white;}#sk-container-id-1 div.sk-parallel-item:first-child::after {align-self: flex-end;width: 50%;}#sk-container-id-1 div.sk-parallel-item:last-child::after {align-self: flex-start;width: 50%;}#sk-container-id-1 div.sk-parallel-item:only-child::after {width: 0;}#sk-container-id-1 div.sk-dashed-wrapped {border: 1px dashed gray;margin: 0 0.4em 0.5em 0.4em;box-sizing: border-box;padding-bottom: 0.4em;background-color: white;}#sk-container-id-1 div.sk-label label {font-family: monospace;font-weight: bold;display: inline-block;line-height: 1.2em;}#sk-container-id-1 div.sk-label-container {text-align: center;}#sk-container-id-1 div.sk-container {/* jupyter's `normalize.less` sets `[hidden] { display: none; }` but bootstrap.min.css set `[hidden] { display: none !important; }` so we also need the `!important` here to be able to override the default hidden behavior on the sphinx rendered scikit-learn.org. See: https://github.com/scikit-learn/scikit-learn/issues/21755 */display: inline-block !important;position: relative;}#sk-container-id-1 div.sk-text-repr-fallback {display: none;}</style><div id=\"sk-container-id-1\" class=\"sk-top-container\"><div class=\"sk-text-repr-fallback\"><pre>RandomForestRegressor()</pre><b>In a Jupyter environment, please rerun this cell to show the HTML representation or trust the notebook. <br />On GitHub, the HTML representation is unable to render, please try loading this page with nbviewer.org.</b></div><div class=\"sk-container\" hidden><div class=\"sk-item\"><div class=\"sk-estimator sk-toggleable\"><input class=\"sk-toggleable__control sk-hidden--visually\" id=\"sk-estimator-id-1\" type=\"checkbox\" checked><label for=\"sk-estimator-id-1\" class=\"sk-toggleable__label sk-toggleable__label-arrow\">RandomForestRegressor</label><div class=\"sk-toggleable__content\"><pre>RandomForestRegressor()</pre></div></div></div></div></div>"
      ],
      "text/plain": [
       "RandomForestRegressor()"
      ]
     },
     "execution_count": 21,
     "metadata": {},
     "output_type": "execute_result"
    }
   ],
   "source": [
    "# training the model \n",
    "model.fit(X_train, Y_train)"
   ]
  },
  {
   "cell_type": "markdown",
   "id": "071d3dfa-9d02-4181-a0f1-c0168c0f1690",
   "metadata": {},
   "source": [
    "Model evaluation"
   ]
  },
  {
   "cell_type": "code",
   "execution_count": 22,
   "id": "fe7c2a8d-8664-4c43-9ecd-3a536aa8c7ab",
   "metadata": {},
   "outputs": [],
   "source": [
    "# prediction on test data\n",
    "Y_pred = model.predict(X_test)"
   ]
  },
  {
   "cell_type": "code",
   "execution_count": 23,
   "id": "0f428506-d6d8-483a-9948-5015ec80fc21",
   "metadata": {},
   "outputs": [
    {
     "name": "stdout",
     "output_type": "stream",
     "text": [
      "[127.41379894 118.41040025 139.57790031 122.35790046  94.61320089\n",
      " 151.54489922 118.43230096 113.26080112 134.54059994 105.60670036\n",
      " 103.35569862 117.68749738  92.50799924 150.02640198 120.2482996\n",
      " 116.31820172  86.33699807  92.22260008  93.46439958 127.01049948\n",
      "  85.66209898 116.50830003 126.9316     172.0874961  171.16539683\n",
      " 146.77180032 114.75499943 159.21269989 131.4697997  117.68230132\n",
      " 117.84210049 104.98110239 126.98829987 121.41659893 101.92579934\n",
      " 119.39010068  83.28880087 115.2116004  126.15989885 139.85739898\n",
      " 108.7893011  133.29889857 108.5080992  141.21400377 141.78590001\n",
      " 150.29260088 119.12450054 158.97230215 162.32500271 126.84790007\n",
      " 124.31669982 109.16429984 122.63400078 117.79269945 154.29969963\n",
      " 122.06630003 111.98659971  86.59809941 154.29939997 119.06340028\n",
      "  88.06019895 114.79900005  83.82659994 146.9135992  125.78679818\n",
      " 127.58440067 125.07060006 119.79030101 155.23819849 117.84109824\n",
      " 125.34870076 172.76719643 121.78679993 152.38999843 119.33119911\n",
      " 127.91249977 152.95869612 117.01009968 115.38350139 160.3134992\n",
      " 121.69160002 125.37979962 117.49119856 123.38120063 112.33430063\n",
      " 159.90610008 114.99079853 113.48909977 125.52519974  96.5069996\n",
      " 113.88250032 113.9701015   80.90289988 159.6776004  126.91730147\n",
      " 119.74730184  92.0967003   98.59510084 153.9746025   91.78109921\n",
      " 155.74070225 121.09930053 121.48710052 115.11949918  88.44140079\n",
      " 129.75890212 124.97339893 164.91320033 110.69550045 167.17010087\n",
      " 105.75210168 157.06699873 115.0354006  120.48790088  94.47830093\n",
      " 166.7739016  115.30900107 108.74909898  84.45999911 110.98709897\n",
      " 154.29060234  90.5004997   74.04049947 118.78230006 102.9122995\n",
      " 120.14749794 120.6787005  136.14659884 118.84190036 108.83050119\n",
      " 104.08159858 115.03739891  92.8614012  117.00620209 117.87970033\n",
      " 114.21790087  75.17490025 126.6233005   82.69600011 115.35349869\n",
      " 117.42669952 154.44000282 156.84130059 118.15439975 166.51380193\n",
      " 130.63580072 124.70999914 114.02189933 125.09289912 118.42470014\n",
      " 161.02460022 107.01079946 119.27719989  87.11169763 129.12080071\n",
      " 112.51910029  85.01329987 114.41230039 117.68040055  86.01469822\n",
      " 133.11249929 147.21030284 138.43450459 115.30619925 127.38849982\n",
      " 122.41910008  97.4448004  117.63510029 115.78409989 118.57789918\n",
      " 154.6913006  118.37720015  90.56410036 119.95819958 105.78589896\n",
      " 118.01980059 109.53149819 107.8498016  120.11969851 126.01810125\n",
      "  88.13579828 172.58759649 118.73440159 116.32790027 161.89259768\n",
      " 125.64059884 110.11699817 128.09090132 128.38049917 121.0001993\n",
      " 117.87690195 137.09490358 149.48200168 118.92340066 158.98710421\n",
      " 133.42739987 124.34279985 125.42029898 179.68869643 125.5794995\n",
      " 162.41710277  95.52330317 131.85720584  92.83449958  97.22179883\n",
      "  92.10049943  97.92400176 114.52170004 163.4629986  154.97160074\n",
      " 153.79150518 119.41410132 117.87430038 118.83170054 122.52100101\n",
      "  91.39860155 102.49920037 153.11759916 108.20679957 102.76219875\n",
      " 158.7941014   75.94309977 120.51470175 168.48009975 115.79170002\n",
      " 151.04649775 150.74559811 150.23880049 154.25529894 130.99070489\n",
      " 130.00100034 123.7023005  116.53550115 134.04669845 163.69590066\n",
      " 144.02869918 127.13030003 160.21239863 129.05870267 108.21229971\n",
      " 162.2460997  117.41089714  84.09159996 162.76450139 153.16030281\n",
      " 116.41890085 129.7769992   91.86089982  91.1176006  114.39579944\n",
      "  88.18829987 115.28129915 119.01860087 155.43359918 114.77299964\n",
      " 106.99240059 117.23719841 137.75179516 109.47860014 120.68419954\n",
      "  84.31979908 124.24839983 125.75979978 155.18399918 126.54279882\n",
      " 142.44989907 116.61810116 161.63449916 105.51399865 174.55470181\n",
      " 109.9048981  115.18850141  88.07359833 125.88270008 117.76580075\n",
      " 153.02850208 163.86140205  76.73550116 107.94410037 110.22280011\n",
      " 111.87409901 108.06409969 117.82390022  89.71080022  87.05319936\n",
      "  83.6499994  136.91239794 127.50819973 121.01959899  96.33480078\n",
      " 109.50049826  79.60579836  72.92340213 111.91209839 118.3385008\n",
      "  89.6745996  112.12550072 116.69680008 119.01920131 121.18249959\n",
      " 150.75239801  86.7898986  132.03819884 117.12110063 153.16130335\n",
      " 101.9984993  148.26949893 124.77269995 116.11309998 113.60289916\n",
      " 125.07060006 136.03339929 141.12499829 116.61610171 128.44449731\n",
      "  97.64639994 113.74699904  88.52540022  89.55220159 106.27980101\n",
      " 133.82789988 136.23859995 162.32030161 120.18270092 108.33269869\n",
      " 104.73770007 151.87359664 154.16069756 103.14929852 135.17430181\n",
      " 118.9685999  129.04919906  88.40090093 174.16039988 116.95549973\n",
      " 140.70609775 114.92320014  84.75610108 122.09509941 135.93840209\n",
      " 117.69749981 156.81909959 114.74690103 148.80720234 115.19179994\n",
      " 121.74679928 120.17290118 123.86450014  88.26700056 142.05420278\n",
      " 112.87610057 110.79830022 121.09579925 155.31270105  92.74830101\n",
      "  92.04520072 120.33820177 155.44630061 119.91120002 151.84860147\n",
      " 126.76910002 161.83299724 121.6415001  133.71029917 123.28230007\n",
      "  72.1572976   94.99270045  89.80530064 121.93730023 119.80779837\n",
      " 116.06729966 106.87119986 125.87310039 126.95939995 121.68210081\n",
      " 120.65790184 109.46309996 108.91850065 109.96350202 148.82090432\n",
      " 127.01550018 163.2635005  125.44290067 150.21520018 141.06810372\n",
      " 108.48139851 108.68709832 126.68430066 102.88639921 119.49700183\n",
      " 120.28090146 149.63429869  94.72309905 104.69730027 126.71369838\n",
      " 124.90050037 162.97280024 119.30910051 147.68300108 110.46309931\n",
      " 125.5367993   88.55019945  81.01629847 126.63200002 125.55110108\n",
      " 157.33190348 119.0558988  127.3556017   86.42269906 125.73139885\n",
      " 116.37029902 115.52029805 102.83899977 120.07179821  94.89629985\n",
      " 102.75929946 123.52629926 114.19559961 126.67200035  91.42969897\n",
      " 120.0806003  107.07989942 122.65660028 131.18650059  87.00499955\n",
      " 119.40620067 101.60999955 106.77080011 102.88350052  89.0175001\n",
      " 119.28069907 120.83769824 166.88169819 125.8937003   99.10630053\n",
      " 158.8332052  106.93099842  97.41659843 139.85629981 113.89139896\n",
      "  87.02169902 161.44629862  89.34070025  89.44090041 167.37919776\n",
      " 160.67850177 166.19039999 168.78659697 125.69199976 127.13749997\n",
      " 121.08299974  91.91809794 121.34829922 121.3089     126.69989894\n",
      " 161.80650006 116.57720074 106.02259941 108.33899856  88.78400139\n",
      " 102.29589931 118.89719884 116.59270206 106.63230123 109.34420007\n",
      " 125.91540005 166.83839916  91.55739903 117.99929892 165.93290216\n",
      " 118.40530106 115.52870034 113.23559887 138.69480041 100.69580072\n",
      " 150.51479842 101.61310007 127.94789966 130.44760346  99.63960116\n",
      " 122.67420113 158.44649931 166.56800171 125.81899959 120.60430004\n",
      " 113.62009873 121.94429926 152.27899986 115.29969926 155.38150062\n",
      " 124.55639815 108.30470037 102.7674004  170.22549884 128.2812974\n",
      " 127.4004005  104.5671988  127.08230167  84.79740133 154.66079995\n",
      "  97.3176025  145.49449742 118.33650084 124.56320191 120.76960054\n",
      " 147.29319648 131.03590421  88.29129954  91.65260115 127.63570216\n",
      " 120.05809899 118.70380028  86.08859769 106.96060159 158.38379856\n",
      "  92.0869006  161.98959666 154.48130241  99.62080219 171.61169946\n",
      " 101.85539943 123.31340243 153.14100286 127.05640034 122.39169836\n",
      " 116.23900099 115.70769982 119.41000114 120.08310065 120.04519943\n",
      " 108.46640014 121.59360037  86.1022985   83.92639909  89.41339929\n",
      " 108.39859948 117.64239903  94.60180189 119.08580082 121.4605993\n",
      " 115.12800058 125.73139951 120.92009976 125.54749959 102.56459913\n",
      " 125.18239877 117.51570136 150.80629946 167.60010143 172.95899602\n",
      " 116.43510142 116.6827004  140.59929885 118.2825998   99.85330182\n",
      "  74.47439871 127.87660042 114.87580025 159.33300056 172.93779582\n",
      " 126.397901   123.13929941  90.51470026 133.39069886 136.63819801\n",
      " 115.60239925 160.89090327 123.72470096  86.08489864 117.47620194\n",
      "  89.34220054 144.35510288 121.15000108 165.68879868 160.00810006\n",
      " 123.22240074 112.4045008  168.75549813 125.82729872 126.46350096\n",
      "  90.54310008 117.76770092 117.61619991 112.37369936 135.04240128\n",
      " 119.92779867 119.45529923 126.09829846  83.25430098 128.31989983\n",
      "  92.1116007  155.66970167 135.91509666 110.68839777 119.76630135\n",
      " 142.04149776 113.98660048 102.13599875 125.55499879 121.12980036\n",
      " 125.67779948 109.71990124 110.65329948 134.81999836 111.80450124\n",
      " 135.90850067 123.04119976  89.88919864 127.59930041 118.40040136\n",
      " 119.76909944  88.28359989 126.64250044 166.88909745 120.61199931\n",
      "  86.43389919 165.39470466 177.43699731 114.29719961 154.48220086\n",
      " 150.9763994  115.15619854 120.15370085  92.61939992 128.00280004\n",
      " 107.58999843 143.84239706 163.32789865 153.01730127 121.85140034\n",
      " 147.82779939  92.10159937 120.4749005   86.6518979  153.16470563\n",
      " 116.13319879 118.84359916 165.42370059 164.33049919 112.38309946\n",
      " 128.38909824 113.91820051 155.29139953 123.69130027  87.33579949\n",
      " 106.31779907 125.74270218 117.30299764 121.27490114 133.9501982\n",
      "  96.21579952 118.42909759 157.40339951  89.22040211 119.93950189\n",
      "  98.22269821 163.55969977 116.43740081 120.32500097 117.32799868\n",
      "  92.13139884 152.98170202 127.36769797 147.85719615 144.66859898\n",
      " 153.17970183 120.22080251 119.02770127 125.858101   121.29070079\n",
      "  81.07739856 166.96129847 159.44830122  91.82339939 119.19330132\n",
      " 126.01450005 120.55780102 114.05260007  91.85060134 176.34870204\n",
      " 120.32730048 145.09839945  76.70650129 129.2208985   86.42039869\n",
      "  94.45550064 119.98659946]\n"
     ]
    }
   ],
   "source": [
    "print(Y_pred)"
   ]
  },
  {
   "cell_type": "code",
   "execution_count": 24,
   "id": "8d994631-27ad-4b9b-8195-07fd4e374e63",
   "metadata": {},
   "outputs": [
    {
     "name": "stdout",
     "output_type": "stream",
     "text": [
      "R squared error: 0.9656759413633342\n",
      "MSE :  18.32562223284539\n",
      "RMSE :  4.280843635645361\n"
     ]
    }
   ],
   "source": [
    "# R squared error\n",
    "error_score = metrics.r2_score(Y_test,Y_pred)\n",
    "print('R squared error:',error_score)\n",
    "print('MSE : ',mean_squared_error(Y_test, Y_pred))\n",
    "print('RMSE : ',mean_squared_error(Y_test, Y_pred,squared=False))"
   ]
  },
  {
   "cell_type": "markdown",
   "id": "5461b8fc-4054-408c-b1d1-8046f2d1ce27",
   "metadata": {},
   "source": [
    "Compare the actual values and predicted values in a plot"
   ]
  },
  {
   "cell_type": "code",
   "execution_count": 25,
   "id": "e8429b59-7469-4d08-bd4a-729603cee025",
   "metadata": {},
   "outputs": [],
   "source": [
    "Y_test = list(Y_test)"
   ]
  },
  {
   "cell_type": "code",
   "execution_count": 26,
   "id": "6ed14566-1b86-4a72-be7e-60470a8d2390",
   "metadata": {},
   "outputs": [
    {
     "data": {
      "image/png": "[encoded data removed]",
      "text/plain": [
       "<Figure size 640x480 with 1 Axes>"
      ]
     },
     "metadata": {},
     "output_type": "display_data"
    }
   ],
   "source": [
    "plt.plot(Y_test, color = 'blue', label = 'Actual value')\n",
    "plt.plot(Y_pred, color = 'red', label = 'Predicted value')\n",
    "plt.title('Actual Price vs Predicted Price')\n",
    "plt.xlabel('No of values')\n",
    "plt.ylabel('Gold price')\n",
    "plt.legend()\n",
    "plt.show()"
   ]
  },
  {
   "cell_type": "code",
   "execution_count": null,
   "id": "39e6bf09-7d7f-4e46-9049-6280026ef817",
   "metadata": {},
   "outputs": [],
   "source": []
  }
 ],
 "metadata": {
  "kernelspec": {
   "display_name": "Python 3 (ipykernel)",
   "language": "python",
   "name": "python3"
  },
  "language_info": {
   "codemirror_mode": {
    "name": "ipython",
    "version": 3
   },
   "file_extension": ".py",
   "mimetype": "text/x-python",
   "name": "python",
   "nbconvert_exporter": "python",
   "pygments_lexer": "ipython3",
   "version": "3.10.7"
  }
 },
 "nbformat": 4,
 "nbformat_minor": 5
}
